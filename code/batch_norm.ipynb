{
 "cells": [
  {
   "cell_type": "code",
   "execution_count": 4,
   "metadata": {},
   "outputs": [],
   "source": [
    "import os, shutil, PIL\n",
    "original_dataset_dir = '../data/primary_small/'\n",
    "train_dir = os.path.join(original_dataset_dir, 'train')\n",
    "validation_dir = os.path.join(original_dataset_dir, 'valid')\n",
    "test_dir = os.path.join(original_dataset_dir, 'test')"
   ]
  },
  {
   "cell_type": "code",
   "execution_count": 5,
   "metadata": {},
   "outputs": [],
   "source": [
    "from keras import layers\n",
    "from keras import models\n",
    "\n",
    "model = models.Sequential()\n",
    "model.add(layers.Conv2D(32,(3,3), activation='relu',\n",
    "                       input_shape=(150,150,3)))\n",
    "model.add(layers.BatchNormalization())\n",
    "model.add(layers.MaxPooling2D((2,2)))\n",
    "model.add(layers.Conv2D(64,(3,3), activation='relu'))\n",
    "model.add(layers.MaxPooling2D((2,2)))\n",
    "model.add(layers.Conv2D(128,(3,3), activation='relu'))\n",
    "model.add(layers.BatchNormalization())\n",
    "model.add(layers.MaxPooling2D((2,2)))\n",
    "model.add(layers.Conv2D(128,(3,3), activation='relu'))\n",
    "model.add(layers.BatchNormalization())\n",
    "model.add(layers.MaxPooling2D((2,2)))\n",
    "model.add(layers.Flatten())\n",
    "model.add(layers.Dense(512, activation='relu'))\n",
    "model.add(layers.BatchNormalization())\n",
    "model.add(layers.Dense(7, activation='sigmoid'))"
   ]
  },
  {
   "cell_type": "code",
   "execution_count": 6,
   "metadata": {},
   "outputs": [
    {
     "name": "stdout",
     "output_type": "stream",
     "text": [
      "Model: \"sequential_2\"\n",
      "_________________________________________________________________\n",
      "Layer (type)                 Output Shape              Param #   \n",
      "=================================================================\n",
      "conv2d_5 (Conv2D)            (None, 148, 148, 32)      896       \n",
      "_________________________________________________________________\n",
      "batch_normalization_5 (Batch (None, 148, 148, 32)      128       \n",
      "_________________________________________________________________\n",
      "max_pooling2d_5 (MaxPooling2 (None, 74, 74, 32)        0         \n",
      "_________________________________________________________________\n",
      "conv2d_6 (Conv2D)            (None, 72, 72, 64)        18496     \n",
      "_________________________________________________________________\n",
      "max_pooling2d_6 (MaxPooling2 (None, 36, 36, 64)        0         \n",
      "_________________________________________________________________\n",
      "conv2d_7 (Conv2D)            (None, 34, 34, 128)       73856     \n",
      "_________________________________________________________________\n",
      "batch_normalization_6 (Batch (None, 34, 34, 128)       512       \n",
      "_________________________________________________________________\n",
      "max_pooling2d_7 (MaxPooling2 (None, 17, 17, 128)       0         \n",
      "_________________________________________________________________\n",
      "conv2d_8 (Conv2D)            (None, 15, 15, 128)       147584    \n",
      "_________________________________________________________________\n",
      "batch_normalization_7 (Batch (None, 15, 15, 128)       512       \n",
      "_________________________________________________________________\n",
      "max_pooling2d_8 (MaxPooling2 (None, 7, 7, 128)         0         \n",
      "_________________________________________________________________\n",
      "flatten_2 (Flatten)          (None, 6272)              0         \n",
      "_________________________________________________________________\n",
      "dense_3 (Dense)              (None, 512)               3211776   \n",
      "_________________________________________________________________\n",
      "batch_normalization_8 (Batch (None, 512)               2048      \n",
      "_________________________________________________________________\n",
      "dense_4 (Dense)              (None, 7)                 3591      \n",
      "=================================================================\n",
      "Total params: 3,459,399\n",
      "Trainable params: 3,457,799\n",
      "Non-trainable params: 1,600\n",
      "_________________________________________________________________\n"
     ]
    }
   ],
   "source": [
    "model.summary()"
   ]
  },
  {
   "cell_type": "code",
   "execution_count": 7,
   "metadata": {},
   "outputs": [],
   "source": [
    "from keras import optimizers\n",
    "\n",
    "model.compile(loss='categorical_crossentropy',\n",
    "             optimizer=optimizers.RMSprop(lr=1e-4),\n",
    "             metrics=['acc'])"
   ]
  },
  {
   "cell_type": "code",
   "execution_count": 8,
   "metadata": {},
   "outputs": [
    {
     "name": "stdout",
     "output_type": "stream",
     "text": [
      "Found 5600 images belonging to 7 classes.\n",
      "Found 700 images belonging to 7 classes.\n"
     ]
    }
   ],
   "source": [
    "from keras.preprocessing.image import ImageDataGenerator\n",
    "\n",
    "train_datagen = ImageDataGenerator(rescale=1./255)\n",
    "test_datagen = ImageDataGenerator(rescale=1./255)\n",
    "\n",
    "train_generator = train_datagen.flow_from_directory(\n",
    "        train_dir,\n",
    "        target_size=(150,150),\n",
    "        batch_size=20,\n",
    "        class_mode='categorical')\n",
    "validation_generator = test_datagen.flow_from_directory(\n",
    "            validation_dir,\n",
    "            target_size=(150,150),\n",
    "            batch_size=20,\n",
    "            class_mode='categorical')"
   ]
  },
  {
   "cell_type": "code",
   "execution_count": 9,
   "metadata": {},
   "outputs": [
    {
     "name": "stdout",
     "output_type": "stream",
     "text": [
      "Epoch 1/30\n",
      "100/100 [==============================] - 129s 1s/step - loss: 1.8183 - acc: 0.2995 - val_loss: 2.1095 - val_acc: 0.1450\n",
      "Epoch 2/30\n",
      "100/100 [==============================] - 155s 2s/step - loss: 1.6963 - acc: 0.3335 - val_loss: 2.1367 - val_acc: 0.1450\n",
      "Epoch 3/30\n",
      "100/100 [==============================] - 160s 2s/step - loss: 1.6123 - acc: 0.3820 - val_loss: 4.6884 - val_acc: 0.1320\n",
      "Epoch 4/30\n",
      "100/100 [==============================] - 163s 2s/step - loss: 1.5354 - acc: 0.3975 - val_loss: 5.3257 - val_acc: 0.1480\n",
      "Epoch 5/30\n",
      "100/100 [==============================] - 163s 2s/step - loss: 1.5299 - acc: 0.3940 - val_loss: 5.4103 - val_acc: 0.1410\n",
      "Epoch 6/30\n",
      "100/100 [==============================] - 166s 2s/step - loss: 1.4609 - acc: 0.4295 - val_loss: 3.9360 - val_acc: 0.1440\n",
      "Epoch 7/30\n",
      "100/100 [==============================] - 168s 2s/step - loss: 1.3646 - acc: 0.4420 - val_loss: 3.9652 - val_acc: 0.1560\n",
      "Epoch 8/30\n",
      "100/100 [==============================] - 167s 2s/step - loss: 1.3591 - acc: 0.4625 - val_loss: 1.4243 - val_acc: 0.3110\n",
      "Epoch 9/30\n",
      "100/100 [==============================] - 170s 2s/step - loss: 1.2849 - acc: 0.5005 - val_loss: 2.3552 - val_acc: 0.3030\n",
      "Epoch 10/30\n",
      "100/100 [==============================] - 169s 2s/step - loss: 1.2245 - acc: 0.4955 - val_loss: 1.5080 - val_acc: 0.3730\n",
      "Epoch 11/30\n",
      "100/100 [==============================] - 170s 2s/step - loss: 1.2066 - acc: 0.5120 - val_loss: 2.4221 - val_acc: 0.3340\n",
      "Epoch 12/30\n",
      "100/100 [==============================] - 168s 2s/step - loss: 1.1169 - acc: 0.5720 - val_loss: 1.7207 - val_acc: 0.4070\n",
      "Epoch 13/30\n",
      "100/100 [==============================] - 170s 2s/step - loss: 1.0738 - acc: 0.5655 - val_loss: 1.7357 - val_acc: 0.3860\n",
      "Epoch 14/30\n",
      "100/100 [==============================] - 170s 2s/step - loss: 1.0679 - acc: 0.5720 - val_loss: 2.1430 - val_acc: 0.4140\n",
      "Epoch 15/30\n",
      "100/100 [==============================] - 172s 2s/step - loss: 0.9482 - acc: 0.6200 - val_loss: 2.0079 - val_acc: 0.4220\n",
      "Epoch 16/30\n",
      "100/100 [==============================] - 171s 2s/step - loss: 0.9355 - acc: 0.6390 - val_loss: 1.6172 - val_acc: 0.4110\n",
      "Epoch 17/30\n",
      "100/100 [==============================] - 172s 2s/step - loss: 0.9155 - acc: 0.6265 - val_loss: 2.5011 - val_acc: 0.3850\n",
      "Epoch 18/30\n",
      "100/100 [==============================] - 171s 2s/step - loss: 0.7833 - acc: 0.7050 - val_loss: 1.3929 - val_acc: 0.3770\n",
      "Epoch 19/30\n",
      "100/100 [==============================] - 189s 2s/step - loss: 0.7840 - acc: 0.6830 - val_loss: 1.4697 - val_acc: 0.3980\n",
      "Epoch 20/30\n",
      "100/100 [==============================] - 180s 2s/step - loss: 0.7331 - acc: 0.7195 - val_loss: 1.5870 - val_acc: 0.3860\n",
      "Epoch 21/30\n",
      "100/100 [==============================] - 168s 2s/step - loss: 0.6493 - acc: 0.7425 - val_loss: 2.0701 - val_acc: 0.3990\n",
      "Epoch 22/30\n",
      "100/100 [==============================] - 172s 2s/step - loss: 0.6595 - acc: 0.7280 - val_loss: 1.7924 - val_acc: 0.3220\n",
      "Epoch 23/30\n",
      "100/100 [==============================] - 172s 2s/step - loss: 0.5620 - acc: 0.7985 - val_loss: 1.7418 - val_acc: 0.3800\n",
      "Epoch 24/30\n",
      "100/100 [==============================] - 172s 2s/step - loss: 0.5234 - acc: 0.7830 - val_loss: 2.1582 - val_acc: 0.3850\n",
      "Epoch 25/30\n",
      "100/100 [==============================] - 173s 2s/step - loss: 0.5187 - acc: 0.7965 - val_loss: 1.3231 - val_acc: 0.4140\n",
      "Epoch 26/30\n",
      "100/100 [==============================] - 171s 2s/step - loss: 0.4501 - acc: 0.8340 - val_loss: 1.5515 - val_acc: 0.4120\n",
      "Epoch 27/30\n",
      "100/100 [==============================] - 172s 2s/step - loss: 0.4148 - acc: 0.8580 - val_loss: 2.2848 - val_acc: 0.4180\n",
      "Epoch 28/30\n",
      "100/100 [==============================] - 173s 2s/step - loss: 0.4001 - acc: 0.8395 - val_loss: 3.3211 - val_acc: 0.4490\n",
      "Epoch 29/30\n",
      "100/100 [==============================] - 177s 2s/step - loss: 0.3249 - acc: 0.8800 - val_loss: 2.2338 - val_acc: 0.4190\n",
      "Epoch 30/30\n",
      "100/100 [==============================] - 190s 2s/step - loss: 0.2994 - acc: 0.8920 - val_loss: 3.2852 - val_acc: 0.4080\n"
     ]
    }
   ],
   "source": [
    "history = model.fit_generator(\n",
    "train_generator,\n",
    "steps_per_epoch=100,\n",
    "epochs=30,\n",
    "validation_data=validation_generator,\n",
    "validation_steps=50)"
   ]
  },
  {
   "cell_type": "code",
   "execution_count": 11,
   "metadata": {},
   "outputs": [],
   "source": [
    "model.save('seti_small_2.h5')"
   ]
  },
  {
   "cell_type": "code",
   "execution_count": 13,
   "metadata": {},
   "outputs": [
    {
     "data": {
      "image/png": "[encoded data removed]",
      "text/plain": [
       "<Figure size 432x288 with 1 Axes>"
      ]
     },
     "metadata": {
      "needs_background": "light"
     },
     "output_type": "display_data"
    },
    {
     "data": {
      "image/png": "[encoded data removed]",
      "text/plain": [
       "<Figure size 432x288 with 1 Axes>"
      ]
     },
     "metadata": {
      "needs_background": "light"
     },
     "output_type": "display_data"
    }
   ],
   "source": [
    "import matplotlib.pyplot as plt\n",
    "\n",
    "acc = history.history['acc']\n",
    "val_acc = history.history['val_acc']\n",
    "loss = history.history['loss']\n",
    "val_loss = history.history['val_loss']\n",
    "\n",
    "epochs = range(1, len(acc) + 1)\n",
    "\n",
    "plt.plot(epochs, acc, 'bo', label='train acc')\n",
    "plt.plot(epochs,val_acc, 'b', label='val acc')\n",
    "plt.title('Train and val acc')\n",
    "plt.legend()\n",
    "\n",
    "plt.figure()\n",
    "\n",
    "plt.plot(epochs, loss, 'bo', label='train loss')\n",
    "plt.plot(epochs,val_loss, 'b',label='val loss')\n",
    "plt.title('train and val loss')\n",
    "plt.legend()\n",
    "\n",
    "plt.show()"
   ]
  },
  {
   "cell_type": "markdown",
   "metadata": {},
   "source": [
    "Training accuracy much improved, but validation shows that we are overfitting. Shall I try Batch Norm with dropout?"
   ]
  }
 ],
 "metadata": {
  "kernelspec": {
   "display_name": "Python 3",
   "language": "python",
   "name": "python3"
  },
  "language_info": {
   "codemirror_mode": {
    "name": "ipython",
    "version": 3
   },
   "file_extension": ".py",
   "mimetype": "text/x-python",
   "name": "python",
   "nbconvert_exporter": "python",
   "pygments_lexer": "ipython3",
   "version": "3.7.5"
  }
 },
 "nbformat": 4,
 "nbformat_minor": 2
}
