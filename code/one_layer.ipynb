{
 "cells": [
  {
   "cell_type": "code",
   "execution_count": 1,
   "metadata": {},
   "outputs": [],
   "source": [
    "import os, shutil, PIL\n",
    "original_dataset_dir = '../data/primary_small/'\n",
    "train_dir = os.path.join(original_dataset_dir, 'train')\n",
    "validation_dir = os.path.join(original_dataset_dir, 'valid')\n",
    "test_dir = os.path.join(original_dataset_dir, 'test')"
   ]
  },
  {
   "cell_type": "code",
   "execution_count": 2,
   "metadata": {},
   "outputs": [
    {
     "name": "stderr",
     "output_type": "stream",
     "text": [
      "Using TensorFlow backend.\n",
      "/media/angus/Shared/Documents/Uni/final_year_project/venv/lib/python3.7/site-packages/tensorflow/python/framework/dtypes.py:516: FutureWarning: Passing (type, 1) or '1type' as a synonym of type is deprecated; in a future version of numpy, it will be understood as (type, (1,)) / '(1,)type'.\n",
      "  _np_qint8 = np.dtype([(\"qint8\", np.int8, 1)])\n",
      "/media/angus/Shared/Documents/Uni/final_year_project/venv/lib/python3.7/site-packages/tensorflow/python/framework/dtypes.py:517: FutureWarning: Passing (type, 1) or '1type' as a synonym of type is deprecated; in a future version of numpy, it will be understood as (type, (1,)) / '(1,)type'.\n",
      "  _np_quint8 = np.dtype([(\"quint8\", np.uint8, 1)])\n",
      "/media/angus/Shared/Documents/Uni/final_year_project/venv/lib/python3.7/site-packages/tensorflow/python/framework/dtypes.py:518: FutureWarning: Passing (type, 1) or '1type' as a synonym of type is deprecated; in a future version of numpy, it will be understood as (type, (1,)) / '(1,)type'.\n",
      "  _np_qint16 = np.dtype([(\"qint16\", np.int16, 1)])\n",
      "/media/angus/Shared/Documents/Uni/final_year_project/venv/lib/python3.7/site-packages/tensorflow/python/framework/dtypes.py:519: FutureWarning: Passing (type, 1) or '1type' as a synonym of type is deprecated; in a future version of numpy, it will be understood as (type, (1,)) / '(1,)type'.\n",
      "  _np_quint16 = np.dtype([(\"quint16\", np.uint16, 1)])\n",
      "/media/angus/Shared/Documents/Uni/final_year_project/venv/lib/python3.7/site-packages/tensorflow/python/framework/dtypes.py:520: FutureWarning: Passing (type, 1) or '1type' as a synonym of type is deprecated; in a future version of numpy, it will be understood as (type, (1,)) / '(1,)type'.\n",
      "  _np_qint32 = np.dtype([(\"qint32\", np.int32, 1)])\n",
      "/media/angus/Shared/Documents/Uni/final_year_project/venv/lib/python3.7/site-packages/tensorflow/python/framework/dtypes.py:525: FutureWarning: Passing (type, 1) or '1type' as a synonym of type is deprecated; in a future version of numpy, it will be understood as (type, (1,)) / '(1,)type'.\n",
      "  np_resource = np.dtype([(\"resource\", np.ubyte, 1)])\n",
      "/media/angus/Shared/Documents/Uni/final_year_project/venv/lib/python3.7/site-packages/tensorboard/compat/tensorflow_stub/dtypes.py:541: FutureWarning: Passing (type, 1) or '1type' as a synonym of type is deprecated; in a future version of numpy, it will be understood as (type, (1,)) / '(1,)type'.\n",
      "  _np_qint8 = np.dtype([(\"qint8\", np.int8, 1)])\n",
      "/media/angus/Shared/Documents/Uni/final_year_project/venv/lib/python3.7/site-packages/tensorboard/compat/tensorflow_stub/dtypes.py:542: FutureWarning: Passing (type, 1) or '1type' as a synonym of type is deprecated; in a future version of numpy, it will be understood as (type, (1,)) / '(1,)type'.\n",
      "  _np_quint8 = np.dtype([(\"quint8\", np.uint8, 1)])\n",
      "/media/angus/Shared/Documents/Uni/final_year_project/venv/lib/python3.7/site-packages/tensorboard/compat/tensorflow_stub/dtypes.py:543: FutureWarning: Passing (type, 1) or '1type' as a synonym of type is deprecated; in a future version of numpy, it will be understood as (type, (1,)) / '(1,)type'.\n",
      "  _np_qint16 = np.dtype([(\"qint16\", np.int16, 1)])\n",
      "/media/angus/Shared/Documents/Uni/final_year_project/venv/lib/python3.7/site-packages/tensorboard/compat/tensorflow_stub/dtypes.py:544: FutureWarning: Passing (type, 1) or '1type' as a synonym of type is deprecated; in a future version of numpy, it will be understood as (type, (1,)) / '(1,)type'.\n",
      "  _np_quint16 = np.dtype([(\"quint16\", np.uint16, 1)])\n",
      "/media/angus/Shared/Documents/Uni/final_year_project/venv/lib/python3.7/site-packages/tensorboard/compat/tensorflow_stub/dtypes.py:545: FutureWarning: Passing (type, 1) or '1type' as a synonym of type is deprecated; in a future version of numpy, it will be understood as (type, (1,)) / '(1,)type'.\n",
      "  _np_qint32 = np.dtype([(\"qint32\", np.int32, 1)])\n",
      "/media/angus/Shared/Documents/Uni/final_year_project/venv/lib/python3.7/site-packages/tensorboard/compat/tensorflow_stub/dtypes.py:550: FutureWarning: Passing (type, 1) or '1type' as a synonym of type is deprecated; in a future version of numpy, it will be understood as (type, (1,)) / '(1,)type'.\n",
      "  np_resource = np.dtype([(\"resource\", np.ubyte, 1)])\n"
     ]
    },
    {
     "name": "stdout",
     "output_type": "stream",
     "text": [
      "WARNING:tensorflow:From /media/angus/Shared/Documents/Uni/final_year_project/venv/lib/python3.7/site-packages/keras/backend/tensorflow_backend.py:4070: The name tf.nn.max_pool is deprecated. Please use tf.nn.max_pool2d instead.\n",
      "\n",
      "Model: \"sequential_1\"\n",
      "_________________________________________________________________\n",
      "Layer (type)                 Output Shape              Param #   \n",
      "=================================================================\n",
      "conv2d_1 (Conv2D)            (None, 148, 148, 32)      896       \n",
      "_________________________________________________________________\n",
      "batch_normalization_1 (Batch (None, 148, 148, 32)      128       \n",
      "_________________________________________________________________\n",
      "max_pooling2d_1 (MaxPooling2 (None, 74, 74, 32)        0         \n",
      "_________________________________________________________________\n",
      "flatten_1 (Flatten)          (None, 175232)            0         \n",
      "_________________________________________________________________\n",
      "dense_1 (Dense)              (None, 512)               89719296  \n",
      "_________________________________________________________________\n",
      "batch_normalization_2 (Batch (None, 512)               2048      \n",
      "_________________________________________________________________\n",
      "dense_2 (Dense)              (None, 7)                 3591      \n",
      "=================================================================\n",
      "Total params: 89,725,959\n",
      "Trainable params: 89,724,871\n",
      "Non-trainable params: 1,088\n",
      "_________________________________________________________________\n"
     ]
    }
   ],
   "source": [
    "from keras import layers\n",
    "from keras import models\n",
    "\n",
    "model = models.Sequential()\n",
    "model.add(layers.Conv2D(32,(3,3), activation='relu',\n",
    "                       input_shape=(150,150,3)))\n",
    "model.add(layers.BatchNormalization())\n",
    "model.add(layers.MaxPooling2D((2,2)))\n",
    "model.add(layers.Flatten())\n",
    "model.add(layers.Dense(512, activation='relu'))\n",
    "model.add(layers.BatchNormalization())\n",
    "model.add(layers.Dense(7, activation='sigmoid'))\n",
    "model.summary()"
   ]
  },
  {
   "cell_type": "code",
   "execution_count": 3,
   "metadata": {},
   "outputs": [],
   "source": [
    "from keras import optimizers\n",
    "\n",
    "model.compile(loss='categorical_crossentropy',\n",
    "             optimizer=optimizers.RMSprop(lr=1e-4),\n",
    "             metrics=['acc'])"
   ]
  },
  {
   "cell_type": "code",
   "execution_count": 4,
   "metadata": {},
   "outputs": [
    {
     "name": "stdout",
     "output_type": "stream",
     "text": [
      "Found 5600 images belonging to 7 classes.\n",
      "Found 700 images belonging to 7 classes.\n"
     ]
    }
   ],
   "source": [
    "from keras.preprocessing.image import ImageDataGenerator\n",
    "\n",
    "train_datagen = ImageDataGenerator(rescale=1./255)\n",
    "test_datagen = ImageDataGenerator(rescale=1./255)\n",
    "\n",
    "train_generator = train_datagen.flow_from_directory(\n",
    "        train_dir,\n",
    "        target_size=(150,150),\n",
    "        batch_size=20,\n",
    "        class_mode='categorical')\n",
    "validation_generator = test_datagen.flow_from_directory(\n",
    "            validation_dir,\n",
    "            target_size=(150,150),\n",
    "            batch_size=20,\n",
    "            class_mode='categorical')"
   ]
  },
  {
   "cell_type": "code",
   "execution_count": 5,
   "metadata": {},
   "outputs": [
    {
     "name": "stdout",
     "output_type": "stream",
     "text": [
      "WARNING:tensorflow:From /media/angus/Shared/Documents/Uni/final_year_project/venv/lib/python3.7/site-packages/tensorflow/python/ops/math_grad.py:1250: add_dispatch_support.<locals>.wrapper (from tensorflow.python.ops.array_ops) is deprecated and will be removed in a future version.\n",
      "Instructions for updating:\n",
      "Use tf.where in 2.0, which has the same broadcast rule as np.where\n",
      "WARNING:tensorflow:From /media/angus/Shared/Documents/Uni/final_year_project/venv/lib/python3.7/site-packages/keras/backend/tensorflow_backend.py:422: The name tf.global_variables is deprecated. Please use tf.compat.v1.global_variables instead.\n",
      "\n",
      "Epoch 1/30\n",
      "100/100 [==============================] - 200s 2s/step - loss: 1.8474 - acc: 0.2760 - val_loss: 1.9822 - val_acc: 0.1450\n",
      "Epoch 2/30\n",
      "100/100 [==============================] - 203s 2s/step - loss: 1.7558 - acc: 0.3030 - val_loss: 1.9140 - val_acc: 0.1460\n",
      "Epoch 3/30\n",
      "100/100 [==============================] - 218s 2s/step - loss: 1.6449 - acc: 0.3610 - val_loss: 1.8703 - val_acc: 0.1450\n",
      "Epoch 4/30\n",
      "100/100 [==============================] - 243s 2s/step - loss: 1.3453 - acc: 0.5950 - val_loss: 1.8424 - val_acc: 0.1400\n",
      "Epoch 5/30\n",
      "100/100 [==============================] - 236s 2s/step - loss: 1.2846 - acc: 0.6410 - val_loss: 1.9169 - val_acc: 0.1490\n",
      "Epoch 6/30\n",
      "100/100 [==============================] - 243s 2s/step - loss: 1.1601 - acc: 0.7350 - val_loss: 1.8118 - val_acc: 0.1410\n",
      "Epoch 7/30\n",
      "100/100 [==============================] - 222s 2s/step - loss: 0.9830 - acc: 0.8600 - val_loss: 2.4883 - val_acc: 0.2280\n",
      "Epoch 8/30\n",
      "100/100 [==============================] - 276s 3s/step - loss: 0.8943 - acc: 0.8665 - val_loss: 2.1565 - val_acc: 0.2270\n",
      "Epoch 9/30\n",
      "100/100 [==============================] - 232s 2s/step - loss: 0.7380 - acc: 0.9005 - val_loss: 2.2408 - val_acc: 0.2170\n",
      "Epoch 10/30\n",
      "100/100 [==============================] - 212s 2s/step - loss: 0.6286 - acc: 0.9135 - val_loss: 2.0740 - val_acc: 0.1430\n",
      "Epoch 11/30\n",
      "100/100 [==============================] - 206s 2s/step - loss: 0.5567 - acc: 0.9175 - val_loss: 2.8841 - val_acc: 0.3170\n",
      "Epoch 12/30\n",
      "100/100 [==============================] - 221s 2s/step - loss: 0.4424 - acc: 0.9460 - val_loss: 2.6341 - val_acc: 0.2540\n",
      "Epoch 13/30\n",
      "100/100 [==============================] - 229s 2s/step - loss: 0.3743 - acc: 0.9560 - val_loss: 3.4184 - val_acc: 0.1510\n",
      "Epoch 14/30\n",
      "100/100 [==============================] - 215s 2s/step - loss: 0.3382 - acc: 0.9535 - val_loss: 2.4960 - val_acc: 0.2350\n",
      "Epoch 15/30\n",
      "100/100 [==============================] - 226s 2s/step - loss: 0.2308 - acc: 0.9795 - val_loss: 2.5989 - val_acc: 0.2180\n",
      "Epoch 16/30\n",
      "100/100 [==============================] - 241s 2s/step - loss: 0.2100 - acc: 0.9750 - val_loss: 5.2564 - val_acc: 0.1580\n",
      "Epoch 17/30\n",
      "100/100 [==============================] - 218s 2s/step - loss: 0.1228 - acc: 0.9860 - val_loss: 3.7728 - val_acc: 0.2240\n",
      "Epoch 18/30\n",
      "100/100 [==============================] - 209s 2s/step - loss: 0.0638 - acc: 0.9960 - val_loss: 2.2807 - val_acc: 0.2900\n",
      "Epoch 19/30\n",
      "100/100 [==============================] - 200s 2s/step - loss: 0.0477 - acc: 0.9955 - val_loss: 2.6992 - val_acc: 0.2300\n",
      "Epoch 20/30\n",
      "100/100 [==============================] - 209s 2s/step - loss: 0.0314 - acc: 0.9975 - val_loss: 3.9677 - val_acc: 0.1840\n",
      "Epoch 21/30\n",
      "100/100 [==============================] - 228s 2s/step - loss: 0.0214 - acc: 0.9980 - val_loss: 3.9486 - val_acc: 0.2220\n",
      "Epoch 22/30\n",
      "100/100 [==============================] - 245s 2s/step - loss: 0.0122 - acc: 0.9995 - val_loss: 2.4798 - val_acc: 0.2310\n",
      "Epoch 23/30\n",
      "100/100 [==============================] - 238s 2s/step - loss: 0.0108 - acc: 0.9990 - val_loss: 2.9440 - val_acc: 0.2320\n",
      "Epoch 24/30\n",
      "100/100 [==============================] - 253s 3s/step - loss: 0.0069 - acc: 1.0000 - val_loss: 2.5933 - val_acc: 0.2050\n",
      "Epoch 25/30\n",
      "100/100 [==============================] - 225s 2s/step - loss: 0.0059 - acc: 0.9995 - val_loss: 5.5788 - val_acc: 0.1810\n",
      "Epoch 26/30\n",
      "100/100 [==============================] - 208s 2s/step - loss: 0.0059 - acc: 0.9995 - val_loss: 3.5994 - val_acc: 0.2520\n",
      "Epoch 27/30\n",
      "100/100 [==============================] - 211s 2s/step - loss: 0.0048 - acc: 1.0000 - val_loss: 2.5597 - val_acc: 0.1920\n",
      "Epoch 28/30\n",
      "100/100 [==============================] - 206s 2s/step - loss: 0.0049 - acc: 1.0000 - val_loss: 3.4528 - val_acc: 0.2370\n",
      "Epoch 29/30\n",
      "100/100 [==============================] - 208s 2s/step - loss: 0.0044 - acc: 1.0000 - val_loss: 4.6535 - val_acc: 0.2610\n",
      "Epoch 30/30\n",
      "100/100 [==============================] - 217s 2s/step - loss: 0.0032 - acc: 1.0000 - val_loss: 2.4472 - val_acc: 0.2170\n"
     ]
    }
   ],
   "source": [
    "history = model.fit_generator(\n",
    "train_generator,\n",
    "steps_per_epoch=100,\n",
    "epochs=30,\n",
    "validation_data=validation_generator,\n",
    "validation_steps=50)"
   ]
  },
  {
   "cell_type": "markdown",
   "metadata": {},
   "source": [
    "With 1 layer"
   ]
  },
  {
   "cell_type": "code",
   "execution_count": 6,
   "metadata": {},
   "outputs": [],
   "source": [
    "model.save('./../models/seti_small_5.h5')"
   ]
  }
 ],
 "metadata": {
  "kernelspec": {
   "display_name": "Python 3",
   "language": "python",
   "name": "python3"
  },
  "language_info": {
   "codemirror_mode": {
    "name": "ipython",
    "version": 3
   },
   "file_extension": ".py",
   "mimetype": "text/x-python",
   "name": "python",
   "nbconvert_exporter": "python",
   "pygments_lexer": "ipython3",
   "version": "3.7.5"
  }
 },
 "nbformat": 4,
 "nbformat_minor": 2
}
