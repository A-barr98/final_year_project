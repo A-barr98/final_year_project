{
 "cells": [
  {
   "cell_type": "code",
   "execution_count": 1,
   "metadata": {},
   "outputs": [],
   "source": [
    "import os, shutil, PIL\n",
    "original_dataset_dir = '../data/primary_small/'\n",
    "train_dir = os.path.join(original_dataset_dir, 'train')\n",
    "validation_dir = os.path.join(original_dataset_dir, 'valid')\n",
    "test_dir = os.path.join(original_dataset_dir, 'test')"
   ]
  },
  {
   "cell_type": "code",
   "execution_count": 3,
   "metadata": {},
   "outputs": [
    {
     "name": "stdout",
     "output_type": "stream",
     "text": [
      "Model: \"sequential_2\"\n",
      "_________________________________________________________________\n",
      "Layer (type)                 Output Shape              Param #   \n",
      "=================================================================\n",
      "conv2d_2 (Conv2D)            (None, 148, 148, 32)      896       \n",
      "_________________________________________________________________\n",
      "batch_normalization_3 (Batch (None, 148, 148, 32)      128       \n",
      "_________________________________________________________________\n",
      "max_pooling2d_2 (MaxPooling2 (None, 74, 74, 32)        0         \n",
      "_________________________________________________________________\n",
      "flatten_2 (Flatten)          (None, 175232)            0         \n",
      "_________________________________________________________________\n",
      "dense_3 (Dense)              (None, 512)               89719296  \n",
      "_________________________________________________________________\n",
      "batch_normalization_4 (Batch (None, 512)               2048      \n",
      "_________________________________________________________________\n",
      "dense_4 (Dense)              (None, 7)                 3591      \n",
      "=================================================================\n",
      "Total params: 89,725,959\n",
      "Trainable params: 89,724,871\n",
      "Non-trainable params: 1,088\n",
      "_________________________________________________________________\n"
     ]
    }
   ],
   "source": [
    "from keras import layers\n",
    "from keras import models\n",
    "\n",
    "model = models.Sequential()\n",
    "model.add(layers.Conv2D(32,(3,3), activation='relu',\n",
    "                       input_shape=(150,150,3)))\n",
    "model.add(layers.BatchNormalization())\n",
    "model.add(layers.MaxPooling2D((2,2)))\n",
    "model.add(layers.Flatten())\n",
    "model.add(layers.Dense(512, activation='relu'))\n",
    "model.add(layers.BatchNormalization())\n",
    "model.add(layers.Dense(7, activation='sigmoid'))\n",
    "model.summary()"
   ]
  },
  {
   "cell_type": "code",
   "execution_count": 4,
   "metadata": {},
   "outputs": [],
   "source": [
    "from keras import optimizers\n",
    "\n",
    "model.compile(loss='categorical_crossentropy',\n",
    "             optimizer=optimizers.RMSprop(lr=1e-4),\n",
    "             metrics=['acc'])"
   ]
  },
  {
   "cell_type": "code",
   "execution_count": 5,
   "metadata": {},
   "outputs": [
    {
     "name": "stdout",
     "output_type": "stream",
     "text": [
      "Found 5600 images belonging to 7 classes.\n",
      "Found 700 images belonging to 7 classes.\n"
     ]
    }
   ],
   "source": [
    "from keras.preprocessing.image import ImageDataGenerator\n",
    "\n",
    "train_datagen = ImageDataGenerator(rescale=1./255)\n",
    "test_datagen = ImageDataGenerator(rescale=1./255)\n",
    "\n",
    "train_generator = train_datagen.flow_from_directory(\n",
    "        train_dir,\n",
    "        target_size=(150,150),\n",
    "        batch_size=20,\n",
    "        class_mode='categorical')\n",
    "validation_generator = test_datagen.flow_from_directory(\n",
    "            validation_dir,\n",
    "            target_size=(150,150),\n",
    "            batch_size=20,\n",
    "            class_mode='categorical')"
   ]
  },
  {
   "cell_type": "code",
   "execution_count": null,
   "metadata": {},
   "outputs": [
    {
     "name": "stdout",
     "output_type": "stream",
     "text": [
      "WARNING:tensorflow:From /media/angus/Shared/Documents/Uni/final_year_project/venv/lib/python3.7/site-packages/tensorflow/python/ops/math_grad.py:1250: add_dispatch_support.<locals>.wrapper (from tensorflow.python.ops.array_ops) is deprecated and will be removed in a future version.\n",
      "Instructions for updating:\n",
      "Use tf.where in 2.0, which has the same broadcast rule as np.where\n",
      "WARNING:tensorflow:From /media/angus/Shared/Documents/Uni/final_year_project/venv/lib/python3.7/site-packages/keras/backend/tensorflow_backend.py:422: The name tf.global_variables is deprecated. Please use tf.compat.v1.global_variables instead.\n",
      "\n",
      "Epoch 1/30\n",
      "100/100 [==============================] - 174s 2s/step - loss: 1.7661 - acc: 0.2810 - val_loss: 2.7954 - val_acc: 0.1400\n",
      "Epoch 2/30\n",
      "100/100 [==============================] - 172s 2s/step - loss: 1.7126 - acc: 0.3105 - val_loss: 3.4413 - val_acc: 0.1440\n",
      "Epoch 3/30\n",
      "100/100 [==============================] - 174s 2s/step - loss: 1.6311 - acc: 0.3725 - val_loss: 4.5143 - val_acc: 0.1460\n",
      "Epoch 4/30\n",
      "100/100 [==============================] - 174s 2s/step - loss: 1.2912 - acc: 0.6170 - val_loss: 4.7259 - val_acc: 0.1670\n",
      "Epoch 5/30\n",
      "100/100 [==============================] - 174s 2s/step - loss: 1.2395 - acc: 0.6475 - val_loss: 4.3830 - val_acc: 0.2300\n",
      "Epoch 6/30\n",
      "100/100 [==============================] - 172s 2s/step - loss: 1.1421 - acc: 0.7350 - val_loss: 4.4653 - val_acc: 0.2660\n",
      "Epoch 7/30\n",
      "100/100 [==============================] - 176s 2s/step - loss: 0.9974 - acc: 0.8315 - val_loss: 3.5146 - val_acc: 0.2200\n",
      "Epoch 8/30\n",
      "100/100 [==============================] - 172s 2s/step - loss: 0.9406 - acc: 0.8630 - val_loss: 3.7260 - val_acc: 0.2300\n",
      "Epoch 9/30\n",
      "100/100 [==============================] - 174s 2s/step - loss: 0.7876 - acc: 0.9115 - val_loss: 3.6794 - val_acc: 0.2520\n",
      "Epoch 10/30\n",
      "100/100 [==============================] - 173s 2s/step - loss: 0.6446 - acc: 0.9305 - val_loss: 3.2706 - val_acc: 0.2290\n",
      "Epoch 11/30\n",
      "100/100 [==============================] - 172s 2s/step - loss: 0.5635 - acc: 0.9385 - val_loss: 3.1021 - val_acc: 0.2020\n",
      "Epoch 12/30\n",
      "100/100 [==============================] - 173s 2s/step - loss: 0.3495 - acc: 0.9825 - val_loss: 2.6891 - val_acc: 0.1670\n",
      "Epoch 13/30\n",
      "100/100 [==============================] - 183s 2s/step - loss: 0.2324 - acc: 0.9935 - val_loss: 3.2430 - val_acc: 0.1470\n",
      "Epoch 14/30\n",
      "100/100 [==============================] - 188s 2s/step - loss: 0.1676 - acc: 0.9945 - val_loss: 1.9826 - val_acc: 0.2100\n",
      "Epoch 15/30\n",
      "100/100 [==============================] - 189s 2s/step - loss: 0.0743 - acc: 1.0000 - val_loss: 2.5601 - val_acc: 0.1640\n",
      "Epoch 16/30\n",
      "100/100 [==============================] - 187s 2s/step - loss: 0.0532 - acc: 0.9980 - val_loss: 2.6763 - val_acc: 0.2770\n",
      "Epoch 17/30\n",
      "100/100 [==============================] - 202s 2s/step - loss: 0.0371 - acc: 0.9990 - val_loss: 1.6908 - val_acc: 0.2390\n",
      "Epoch 18/30\n",
      "100/100 [==============================] - 178s 2s/step - loss: 0.0242 - acc: 1.0000 - val_loss: 2.6646 - val_acc: 0.2530\n",
      "Epoch 19/30\n",
      "100/100 [==============================] - 173s 2s/step - loss: 0.0182 - acc: 1.0000 - val_loss: 2.9459 - val_acc: 0.2220\n",
      "Epoch 20/30\n",
      "100/100 [==============================] - 174s 2s/step - loss: 0.0150 - acc: 1.0000 - val_loss: 4.4233 - val_acc: 0.2340\n",
      "Epoch 21/30\n",
      "100/100 [==============================] - 173s 2s/step - loss: 0.0146 - acc: 0.9990 - val_loss: 4.3705 - val_acc: 0.1760\n",
      "Epoch 22/30\n",
      "100/100 [==============================] - 174s 2s/step - loss: 0.0195 - acc: 0.9995 - val_loss: 3.9748 - val_acc: 0.1480\n",
      "Epoch 23/30\n",
      "100/100 [==============================] - 173s 2s/step - loss: 0.0116 - acc: 1.0000 - val_loss: 3.5641 - val_acc: 0.2520\n",
      "Epoch 24/30\n",
      "100/100 [==============================] - 176s 2s/step - loss: 0.0123 - acc: 1.0000 - val_loss: 3.0078 - val_acc: 0.2400\n",
      "Epoch 25/30\n",
      "100/100 [==============================] - 177s 2s/step - loss: 0.0084 - acc: 1.0000 - val_loss: 3.9697 - val_acc: 0.2100\n",
      "Epoch 26/30\n",
      "100/100 [==============================] - 173s 2s/step - loss: 0.0095 - acc: 0.9995 - val_loss: 3.8992 - val_acc: 0.1690\n",
      "Epoch 27/30\n",
      "100/100 [==============================] - 177s 2s/step - loss: 0.0068 - acc: 1.0000 - val_loss: 3.2726 - val_acc: 0.3120\n",
      "Epoch 28/30\n",
      "100/100 [==============================] - 184s 2s/step - loss: 0.0063 - acc: 1.0000 - val_loss: 2.6114 - val_acc: 0.2350\n",
      "Epoch 29/30\n",
      "100/100 [==============================] - 173s 2s/step - loss: 0.0051 - acc: 1.0000 - val_loss: 3.1850 - val_acc: 0.2200\n",
      "Epoch 30/30\n",
      " 97/100 [============================>.] - ETA: 5s - loss: 0.0065 - acc: 1.0000"
     ]
    }
   ],
   "source": [
    "history = model.fit_generator(\n",
    "train_generator,\n",
    "steps_per_epoch=100,\n",
    "epochs=30,\n",
    "validation_data=validation_generator,\n",
    "validation_steps=50)"
   ]
  },
  {
   "cell_type": "markdown",
   "metadata": {},
   "source": [
    "With 1 layer"
   ]
  },
  {
   "cell_type": "code",
   "execution_count": 7,
   "metadata": {},
   "outputs": [],
   "source": [
    "model.save('./../models/seti_small_5.h5')"
   ]
  }
 ],
 "metadata": {
  "kernelspec": {
   "display_name": "Python 3",
   "language": "python",
   "name": "python3"
  },
  "language_info": {
   "codemirror_mode": {
    "name": "ipython",
    "version": 3
   },
   "file_extension": ".py",
   "mimetype": "text/x-python",
   "name": "python",
   "nbconvert_exporter": "python",
   "pygments_lexer": "ipython3",
   "version": "3.7.5"
  }
 },
 "nbformat": 4,
 "nbformat_minor": 2
}
