{
 "cells": [
  {
   "cell_type": "markdown",
   "metadata": {},
   "source": [
    "# Data Augmentation, Batch Normalisation and 3 Layers\n",
    "\n",
    "Using Data Augmentation to synthesise more samples, batch normalisation because its more optimal and 3 convolution layers because John said to use less\n",
    "\n",
    "## Declare model "
   ]
  },
  {
   "cell_type": "code",
   "execution_count": 1,
   "metadata": {},
   "outputs": [
    {
     "name": "stderr",
     "output_type": "stream",
     "text": [
      "Using TensorFlow backend.\n",
      "/media/angus/Shared/Documents/Uni/final_year_project/venv/lib/python3.7/site-packages/tensorflow/python/framework/dtypes.py:516: FutureWarning: Passing (type, 1) or '1type' as a synonym of type is deprecated; in a future version of numpy, it will be understood as (type, (1,)) / '(1,)type'.\n",
      "  _np_qint8 = np.dtype([(\"qint8\", np.int8, 1)])\n",
      "/media/angus/Shared/Documents/Uni/final_year_project/venv/lib/python3.7/site-packages/tensorflow/python/framework/dtypes.py:517: FutureWarning: Passing (type, 1) or '1type' as a synonym of type is deprecated; in a future version of numpy, it will be understood as (type, (1,)) / '(1,)type'.\n",
      "  _np_quint8 = np.dtype([(\"quint8\", np.uint8, 1)])\n",
      "/media/angus/Shared/Documents/Uni/final_year_project/venv/lib/python3.7/site-packages/tensorflow/python/framework/dtypes.py:518: FutureWarning: Passing (type, 1) or '1type' as a synonym of type is deprecated; in a future version of numpy, it will be understood as (type, (1,)) / '(1,)type'.\n",
      "  _np_qint16 = np.dtype([(\"qint16\", np.int16, 1)])\n",
      "/media/angus/Shared/Documents/Uni/final_year_project/venv/lib/python3.7/site-packages/tensorflow/python/framework/dtypes.py:519: FutureWarning: Passing (type, 1) or '1type' as a synonym of type is deprecated; in a future version of numpy, it will be understood as (type, (1,)) / '(1,)type'.\n",
      "  _np_quint16 = np.dtype([(\"quint16\", np.uint16, 1)])\n",
      "/media/angus/Shared/Documents/Uni/final_year_project/venv/lib/python3.7/site-packages/tensorflow/python/framework/dtypes.py:520: FutureWarning: Passing (type, 1) or '1type' as a synonym of type is deprecated; in a future version of numpy, it will be understood as (type, (1,)) / '(1,)type'.\n",
      "  _np_qint32 = np.dtype([(\"qint32\", np.int32, 1)])\n",
      "/media/angus/Shared/Documents/Uni/final_year_project/venv/lib/python3.7/site-packages/tensorflow/python/framework/dtypes.py:525: FutureWarning: Passing (type, 1) or '1type' as a synonym of type is deprecated; in a future version of numpy, it will be understood as (type, (1,)) / '(1,)type'.\n",
      "  np_resource = np.dtype([(\"resource\", np.ubyte, 1)])\n",
      "/media/angus/Shared/Documents/Uni/final_year_project/venv/lib/python3.7/site-packages/tensorboard/compat/tensorflow_stub/dtypes.py:541: FutureWarning: Passing (type, 1) or '1type' as a synonym of type is deprecated; in a future version of numpy, it will be understood as (type, (1,)) / '(1,)type'.\n",
      "  _np_qint8 = np.dtype([(\"qint8\", np.int8, 1)])\n",
      "/media/angus/Shared/Documents/Uni/final_year_project/venv/lib/python3.7/site-packages/tensorboard/compat/tensorflow_stub/dtypes.py:542: FutureWarning: Passing (type, 1) or '1type' as a synonym of type is deprecated; in a future version of numpy, it will be understood as (type, (1,)) / '(1,)type'.\n",
      "  _np_quint8 = np.dtype([(\"quint8\", np.uint8, 1)])\n",
      "/media/angus/Shared/Documents/Uni/final_year_project/venv/lib/python3.7/site-packages/tensorboard/compat/tensorflow_stub/dtypes.py:543: FutureWarning: Passing (type, 1) or '1type' as a synonym of type is deprecated; in a future version of numpy, it will be understood as (type, (1,)) / '(1,)type'.\n",
      "  _np_qint16 = np.dtype([(\"qint16\", np.int16, 1)])\n",
      "/media/angus/Shared/Documents/Uni/final_year_project/venv/lib/python3.7/site-packages/tensorboard/compat/tensorflow_stub/dtypes.py:544: FutureWarning: Passing (type, 1) or '1type' as a synonym of type is deprecated; in a future version of numpy, it will be understood as (type, (1,)) / '(1,)type'.\n",
      "  _np_quint16 = np.dtype([(\"quint16\", np.uint16, 1)])\n",
      "/media/angus/Shared/Documents/Uni/final_year_project/venv/lib/python3.7/site-packages/tensorboard/compat/tensorflow_stub/dtypes.py:545: FutureWarning: Passing (type, 1) or '1type' as a synonym of type is deprecated; in a future version of numpy, it will be understood as (type, (1,)) / '(1,)type'.\n",
      "  _np_qint32 = np.dtype([(\"qint32\", np.int32, 1)])\n",
      "/media/angus/Shared/Documents/Uni/final_year_project/venv/lib/python3.7/site-packages/tensorboard/compat/tensorflow_stub/dtypes.py:550: FutureWarning: Passing (type, 1) or '1type' as a synonym of type is deprecated; in a future version of numpy, it will be understood as (type, (1,)) / '(1,)type'.\n",
      "  np_resource = np.dtype([(\"resource\", np.ubyte, 1)])\n"
     ]
    },
    {
     "name": "stdout",
     "output_type": "stream",
     "text": [
      "WARNING:tensorflow:From /media/angus/Shared/Documents/Uni/final_year_project/venv/lib/python3.7/site-packages/keras/backend/tensorflow_backend.py:4070: The name tf.nn.max_pool is deprecated. Please use tf.nn.max_pool2d instead.\n",
      "\n",
      "Model: \"sequential_1\"\n",
      "_________________________________________________________________\n",
      "Layer (type)                 Output Shape              Param #   \n",
      "=================================================================\n",
      "conv2d_1 (Conv2D)            (None, 148, 148, 32)      896       \n",
      "_________________________________________________________________\n",
      "batch_normalization_1 (Batch (None, 148, 148, 32)      128       \n",
      "_________________________________________________________________\n",
      "max_pooling2d_1 (MaxPooling2 (None, 74, 74, 32)        0         \n",
      "_________________________________________________________________\n",
      "conv2d_2 (Conv2D)            (None, 72, 72, 128)       36992     \n",
      "_________________________________________________________________\n",
      "batch_normalization_2 (Batch (None, 72, 72, 128)       512       \n",
      "_________________________________________________________________\n",
      "max_pooling2d_2 (MaxPooling2 (None, 36, 36, 128)       0         \n",
      "_________________________________________________________________\n",
      "conv2d_3 (Conv2D)            (None, 34, 34, 128)       147584    \n",
      "_________________________________________________________________\n",
      "batch_normalization_3 (Batch (None, 34, 34, 128)       512       \n",
      "_________________________________________________________________\n",
      "max_pooling2d_3 (MaxPooling2 (None, 17, 17, 128)       0         \n",
      "_________________________________________________________________\n",
      "flatten_1 (Flatten)          (None, 36992)             0         \n",
      "_________________________________________________________________\n",
      "dense_1 (Dense)              (None, 512)               18940416  \n",
      "_________________________________________________________________\n",
      "batch_normalization_4 (Batch (None, 512)               2048      \n",
      "_________________________________________________________________\n",
      "dense_2 (Dense)              (None, 7)                 3591      \n",
      "=================================================================\n",
      "Total params: 19,132,679\n",
      "Trainable params: 19,131,079\n",
      "Non-trainable params: 1,600\n",
      "_________________________________________________________________\n"
     ]
    }
   ],
   "source": [
    "import os, shutil, PIL\n",
    "original_dataset_dir = '../data/primary_small/'\n",
    "train_dir = os.path.join(original_dataset_dir, 'train')\n",
    "validation_dir = os.path.join(original_dataset_dir, 'valid')\n",
    "test_dir = os.path.join(original_dataset_dir, 'test')\n",
    "\n",
    "from keras import layers\n",
    "from keras import models\n",
    "from keras import optimizers\n",
    "\n",
    "\n",
    "model = models.Sequential()\n",
    "\n",
    "model.add(layers.Conv2D(32,(3,3), activation='relu',\n",
    "                       input_shape=(150,150,3)))\n",
    "model.add(layers.BatchNormalization())\n",
    "model.add(layers.MaxPooling2D((2,2)))\n",
    "\n",
    "model.add(layers.Conv2D(128,(3,3), activation='relu'))\n",
    "model.add(layers.BatchNormalization())\n",
    "model.add(layers.MaxPooling2D((2,2)))\n",
    "\n",
    "model.add(layers.Conv2D(128,(3,3), activation='relu'))\n",
    "model.add(layers.BatchNormalization())\n",
    "model.add(layers.MaxPooling2D((2,2)))\n",
    "\n",
    "model.add(layers.Flatten())\n",
    "model.add(layers.Dense(512, activation='relu'))\n",
    "model.add(layers.BatchNormalization())\n",
    "model.add(layers.Dense(7, activation='sigmoid'))\n",
    "\n",
    "model.compile(loss='categorical_crossentropy',\n",
    "             optimizer=optimizers.RMSprop(lr=1e-4),\n",
    "             metrics=['acc'])\n",
    "\n",
    "model.summary()"
   ]
  },
  {
   "cell_type": "markdown",
   "metadata": {},
   "source": [
    "## Data generation"
   ]
  },
  {
   "cell_type": "code",
   "execution_count": 17,
   "metadata": {},
   "outputs": [
    {
     "name": "stdout",
     "output_type": "stream",
     "text": [
      "Found 5600 images belonging to 7 classes.\n",
      "Found 700 images belonging to 7 classes.\n"
     ]
    }
   ],
   "source": [
    "from keras.preprocessing.image import ImageDataGenerator\n",
    "\n",
    "train_datagen = ImageDataGenerator(\n",
    "    rescale=1./255,\n",
    "    rotation_range=40,\n",
    "    width_shift_range=0.2,\n",
    "    height_shift_range=0.2,\n",
    "    shear_range=0.2,\n",
    "    zoom_range=0.2,\n",
    "    horizontal_flip=True,\n",
    "    fill_mode='nearest')\n",
    "\n",
    "test_datagen = ImageDataGenerator(rescale=1./255)\n",
    "\n",
    "train_generator = train_datagen.flow_from_directory(\n",
    "         train_dir,\n",
    "         target_size=(150,150),\n",
    "         batch_size=32,\n",
    "         class_mode='categorical')\n",
    "\n",
    "validation_generator = test_datagen.flow_from_directory(\n",
    "        validation_dir,\n",
    "        target_size=(150,150),\n",
    "        batch_size=32,\n",
    "        class_mode='categorical')"
   ]
  },
  {
   "cell_type": "markdown",
   "metadata": {},
   "source": [
    "## Training"
   ]
  },
  {
   "cell_type": "code",
   "execution_count": 18,
   "metadata": {},
   "outputs": [
    {
     "name": "stdout",
     "output_type": "stream",
     "text": [
      "Epoch 1/30\n",
      "100/100 [==============================] - 336s 3s/step - loss: 1.3919 - acc: 0.4831 - val_loss: 6.8664 - val_acc: 0.1464\n",
      "Epoch 2/30\n",
      "100/100 [==============================] - 335s 3s/step - loss: 1.3675 - acc: 0.4759 - val_loss: 4.9840 - val_acc: 0.1401\n",
      "Epoch 3/30\n",
      "100/100 [==============================] - 335s 3s/step - loss: 1.3708 - acc: 0.4834 - val_loss: 6.6301 - val_acc: 0.1438\n",
      "Epoch 4/30\n",
      "100/100 [==============================] - 332s 3s/step - loss: 1.3639 - acc: 0.4913 - val_loss: 10.0238 - val_acc: 0.1461\n",
      "Epoch 5/30\n",
      "100/100 [==============================] - 352s 4s/step - loss: 1.3418 - acc: 0.4913 - val_loss: 4.6892 - val_acc: 0.1187\n",
      "Epoch 6/30\n",
      "100/100 [==============================] - 353s 4s/step - loss: 1.3297 - acc: 0.5056 - val_loss: 3.8748 - val_acc: 0.3712\n",
      "Epoch 7/30\n",
      "100/100 [==============================] - 330s 3s/step - loss: 1.3484 - acc: 0.4816 - val_loss: 3.4176 - val_acc: 0.4121\n",
      "Epoch 8/30\n",
      "100/100 [==============================] - 328s 3s/step - loss: 1.3081 - acc: 0.5069 - val_loss: 3.4379 - val_acc: 0.4503\n",
      "Epoch 9/30\n",
      "100/100 [==============================] - 327s 3s/step - loss: 1.3246 - acc: 0.5031 - val_loss: 4.2300 - val_acc: 0.3737\n",
      "Epoch 10/30\n",
      "100/100 [==============================] - 339s 3s/step - loss: 1.3229 - acc: 0.4984 - val_loss: 2.5120 - val_acc: 0.3926\n",
      "Epoch 11/30\n",
      "100/100 [==============================] - 332s 3s/step - loss: 1.3236 - acc: 0.4972 - val_loss: 3.9019 - val_acc: 0.3193\n",
      "Epoch 12/30\n",
      "100/100 [==============================] - 329s 3s/step - loss: 1.3135 - acc: 0.5109 - val_loss: 4.5018 - val_acc: 0.3298\n",
      "Epoch 13/30\n",
      "100/100 [==============================] - 329s 3s/step - loss: 1.3194 - acc: 0.5269 - val_loss: 4.9846 - val_acc: 0.3260\n",
      "Epoch 14/30\n",
      "100/100 [==============================] - 328s 3s/step - loss: 1.2949 - acc: 0.5147 - val_loss: 5.2258 - val_acc: 0.3367\n",
      "Epoch 15/30\n",
      "100/100 [==============================] - 338s 3s/step - loss: 1.2833 - acc: 0.5163 - val_loss: 2.8112 - val_acc: 0.3583\n",
      "Epoch 16/30\n",
      "100/100 [==============================] - 349s 3s/step - loss: 1.3180 - acc: 0.5072 - val_loss: 4.3425 - val_acc: 0.3361\n",
      "Epoch 17/30\n",
      "100/100 [==============================] - 367s 4s/step - loss: 1.2908 - acc: 0.5206 - val_loss: 3.6726 - val_acc: 0.3643\n",
      "Epoch 18/30\n",
      "100/100 [==============================] - 335s 3s/step - loss: 1.2840 - acc: 0.5269 - val_loss: 4.1624 - val_acc: 0.3756\n",
      "Epoch 19/30\n",
      "100/100 [==============================] - 327s 3s/step - loss: 1.2823 - acc: 0.5216 - val_loss: 3.0056 - val_acc: 0.3539\n",
      "Epoch 20/30\n",
      "100/100 [==============================] - 329s 3s/step - loss: 1.3087 - acc: 0.5122 - val_loss: 4.2953 - val_acc: 0.3687\n",
      "Epoch 21/30\n",
      "100/100 [==============================] - 328s 3s/step - loss: 1.2638 - acc: 0.5288 - val_loss: 3.2269 - val_acc: 0.3618\n",
      "Epoch 22/30\n",
      "100/100 [==============================] - 328s 3s/step - loss: 1.2692 - acc: 0.5362 - val_loss: 2.9987 - val_acc: 0.3514\n",
      "Epoch 23/30\n",
      "100/100 [==============================] - 327s 3s/step - loss: 1.2871 - acc: 0.5128 - val_loss: 3.3111 - val_acc: 0.3631\n",
      "Epoch 24/30\n",
      "100/100 [==============================] - 326s 3s/step - loss: 1.2816 - acc: 0.5272 - val_loss: 7.2987 - val_acc: 0.3543\n",
      "Epoch 25/30\n",
      "100/100 [==============================] - 338s 3s/step - loss: 1.2375 - acc: 0.5412 - val_loss: 5.6799 - val_acc: 0.3373\n",
      "Epoch 26/30\n",
      "100/100 [==============================] - 342s 3s/step - loss: 1.2817 - acc: 0.5128 - val_loss: 4.2384 - val_acc: 0.3577\n",
      "Epoch 27/30\n",
      "100/100 [==============================] - 351s 4s/step - loss: 1.2518 - acc: 0.5400 - val_loss: 2.7178 - val_acc: 0.3807\n",
      "Epoch 28/30\n",
      "100/100 [==============================] - 368s 4s/step - loss: 1.2689 - acc: 0.5288 - val_loss: 3.5079 - val_acc: 0.3750\n",
      "Epoch 29/30\n",
      "100/100 [==============================] - 341s 3s/step - loss: 1.2551 - acc: 0.5288 - val_loss: 4.6775 - val_acc: 0.3750\n",
      "Epoch 30/30\n",
      "100/100 [==============================] - 332s 3s/step - loss: 1.2578 - acc: 0.5334 - val_loss: 3.2815 - val_acc: 0.3394\n"
     ]
    }
   ],
   "source": [
    "history = model.fit_generator(\n",
    "     train_generator,\n",
    "     steps_per_epoch=100,\n",
    "     epochs=30,\n",
    "     validation_data=validation_generator,\n",
    "     validation_steps=50)"
   ]
  },
  {
   "cell_type": "code",
   "execution_count": 4,
   "metadata": {},
   "outputs": [],
   "source": [
    "model.save('./../models/seti_small_7.h5')"
   ]
  },
  {
   "cell_type": "markdown",
   "metadata": {},
   "source": [
    "## Evaluate on un-augmented data"
   ]
  },
  {
   "cell_type": "code",
   "execution_count": 13,
   "metadata": {},
   "outputs": [
    {
     "name": "stdout",
     "output_type": "stream",
     "text": [
      "Found 5600 images belonging to 7 classes.\n",
      "Found 700 images belonging to 7 classes.\n"
     ]
    }
   ],
   "source": [
    "train_datagen = ImageDataGenerator(rescale=1./255)\n",
    "test_datagen = ImageDataGenerator(rescale=1./255)\n",
    "\n",
    "unAug_train_generator = train_datagen.flow_from_directory(\n",
    "        train_dir,\n",
    "        target_size=(150,150),\n",
    "        batch_size=20,\n",
    "        class_mode='categorical')\n",
    "unAug_validation_generator = test_datagen.flow_from_directory(\n",
    "            validation_dir,\n",
    "            target_size=(150,150),\n",
    "            batch_size=20,\n",
    "            class_mode='categorical')"
   ]
  },
  {
   "cell_type": "code",
   "execution_count": 14,
   "metadata": {},
   "outputs": [
    {
     "name": "stdout",
     "output_type": "stream",
     "text": [
      "Epoch 1/1\n",
      "280/280 [==============================] - 547s 2s/step - loss: 1.3530 - acc: 0.4959 - val_loss: 10.7980 - val_acc: 0.1429\n"
     ]
    },
    {
     "data": {
      "text/plain": [
       "<keras.callbacks.callbacks.History at 0x7fe927fa8ad0>"
      ]
     },
     "execution_count": 14,
     "metadata": {},
     "output_type": "execute_result"
    }
   ],
   "source": [
    "model.fit_generator(generator=unAug_train_generator,steps_per_epoch=None, epochs=1,verbose=1,validation_data=unAug_validation_generator)"
   ]
  },
  {
   "cell_type": "markdown",
   "metadata": {},
   "source": [
    "# The problem\n",
    "\n",
    "data augmentation has led to worse accuracy, but I seem to have left out rescale for the training generator, either by mistake or for reasons I have forgotten. model 6 is the first version, model 7 is the version with the right rescaling"
   ]
  }
 ],
 "metadata": {
  "kernelspec": {
   "display_name": "Python 3",
   "language": "python",
   "name": "python3"
  },
  "language_info": {
   "codemirror_mode": {
    "name": "ipython",
    "version": 3
   },
   "file_extension": ".py",
   "mimetype": "text/x-python",
   "name": "python",
   "nbconvert_exporter": "python",
   "pygments_lexer": "ipython3",
   "version": "3.7.5"
  }
 },
 "nbformat": 4,
 "nbformat_minor": 4
}
