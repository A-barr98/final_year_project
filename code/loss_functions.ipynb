{
 "cells": [
  {
   "cell_type": "code",
   "execution_count": 4,
   "metadata": {},
   "outputs": [],
   "source": [
    "import os, shutil, PIL\n",
    "original_dataset_dir = '../data/primary_small/'\n",
    "train_dir = os.path.join(original_dataset_dir, 'train')\n",
    "validation_dir = os.path.join(original_dataset_dir, 'valid')\n",
    "test_dir = os.path.join(original_dataset_dir, 'test')"
   ]
  },
  {
   "cell_type": "markdown",
   "metadata": {},
   "source": [
    "# ADAM"
   ]
  },
  {
   "cell_type": "code",
   "execution_count": 1,
   "metadata": {},
   "outputs": [
    {
     "name": "stderr",
     "output_type": "stream",
     "text": [
      "Using TensorFlow backend.\n",
      "/media/angus/Shared/Documents/Uni/final_year_project/venv/lib/python3.7/site-packages/tensorflow/python/framework/dtypes.py:516: FutureWarning: Passing (type, 1) or '1type' as a synonym of type is deprecated; in a future version of numpy, it will be understood as (type, (1,)) / '(1,)type'.\n",
      "  _np_qint8 = np.dtype([(\"qint8\", np.int8, 1)])\n",
      "/media/angus/Shared/Documents/Uni/final_year_project/venv/lib/python3.7/site-packages/tensorflow/python/framework/dtypes.py:517: FutureWarning: Passing (type, 1) or '1type' as a synonym of type is deprecated; in a future version of numpy, it will be understood as (type, (1,)) / '(1,)type'.\n",
      "  _np_quint8 = np.dtype([(\"quint8\", np.uint8, 1)])\n",
      "/media/angus/Shared/Documents/Uni/final_year_project/venv/lib/python3.7/site-packages/tensorflow/python/framework/dtypes.py:518: FutureWarning: Passing (type, 1) or '1type' as a synonym of type is deprecated; in a future version of numpy, it will be understood as (type, (1,)) / '(1,)type'.\n",
      "  _np_qint16 = np.dtype([(\"qint16\", np.int16, 1)])\n",
      "/media/angus/Shared/Documents/Uni/final_year_project/venv/lib/python3.7/site-packages/tensorflow/python/framework/dtypes.py:519: FutureWarning: Passing (type, 1) or '1type' as a synonym of type is deprecated; in a future version of numpy, it will be understood as (type, (1,)) / '(1,)type'.\n",
      "  _np_quint16 = np.dtype([(\"quint16\", np.uint16, 1)])\n",
      "/media/angus/Shared/Documents/Uni/final_year_project/venv/lib/python3.7/site-packages/tensorflow/python/framework/dtypes.py:520: FutureWarning: Passing (type, 1) or '1type' as a synonym of type is deprecated; in a future version of numpy, it will be understood as (type, (1,)) / '(1,)type'.\n",
      "  _np_qint32 = np.dtype([(\"qint32\", np.int32, 1)])\n",
      "/media/angus/Shared/Documents/Uni/final_year_project/venv/lib/python3.7/site-packages/tensorflow/python/framework/dtypes.py:525: FutureWarning: Passing (type, 1) or '1type' as a synonym of type is deprecated; in a future version of numpy, it will be understood as (type, (1,)) / '(1,)type'.\n",
      "  np_resource = np.dtype([(\"resource\", np.ubyte, 1)])\n",
      "/media/angus/Shared/Documents/Uni/final_year_project/venv/lib/python3.7/site-packages/tensorboard/compat/tensorflow_stub/dtypes.py:541: FutureWarning: Passing (type, 1) or '1type' as a synonym of type is deprecated; in a future version of numpy, it will be understood as (type, (1,)) / '(1,)type'.\n",
      "  _np_qint8 = np.dtype([(\"qint8\", np.int8, 1)])\n",
      "/media/angus/Shared/Documents/Uni/final_year_project/venv/lib/python3.7/site-packages/tensorboard/compat/tensorflow_stub/dtypes.py:542: FutureWarning: Passing (type, 1) or '1type' as a synonym of type is deprecated; in a future version of numpy, it will be understood as (type, (1,)) / '(1,)type'.\n",
      "  _np_quint8 = np.dtype([(\"quint8\", np.uint8, 1)])\n",
      "/media/angus/Shared/Documents/Uni/final_year_project/venv/lib/python3.7/site-packages/tensorboard/compat/tensorflow_stub/dtypes.py:543: FutureWarning: Passing (type, 1) or '1type' as a synonym of type is deprecated; in a future version of numpy, it will be understood as (type, (1,)) / '(1,)type'.\n",
      "  _np_qint16 = np.dtype([(\"qint16\", np.int16, 1)])\n",
      "/media/angus/Shared/Documents/Uni/final_year_project/venv/lib/python3.7/site-packages/tensorboard/compat/tensorflow_stub/dtypes.py:544: FutureWarning: Passing (type, 1) or '1type' as a synonym of type is deprecated; in a future version of numpy, it will be understood as (type, (1,)) / '(1,)type'.\n",
      "  _np_quint16 = np.dtype([(\"quint16\", np.uint16, 1)])\n",
      "/media/angus/Shared/Documents/Uni/final_year_project/venv/lib/python3.7/site-packages/tensorboard/compat/tensorflow_stub/dtypes.py:545: FutureWarning: Passing (type, 1) or '1type' as a synonym of type is deprecated; in a future version of numpy, it will be understood as (type, (1,)) / '(1,)type'.\n",
      "  _np_qint32 = np.dtype([(\"qint32\", np.int32, 1)])\n",
      "/media/angus/Shared/Documents/Uni/final_year_project/venv/lib/python3.7/site-packages/tensorboard/compat/tensorflow_stub/dtypes.py:550: FutureWarning: Passing (type, 1) or '1type' as a synonym of type is deprecated; in a future version of numpy, it will be understood as (type, (1,)) / '(1,)type'.\n",
      "  np_resource = np.dtype([(\"resource\", np.ubyte, 1)])\n"
     ]
    },
    {
     "name": "stdout",
     "output_type": "stream",
     "text": [
      "WARNING:tensorflow:From /media/angus/Shared/Documents/Uni/final_year_project/venv/lib/python3.7/site-packages/keras/backend/tensorflow_backend.py:4070: The name tf.nn.max_pool is deprecated. Please use tf.nn.max_pool2d instead.\n",
      "\n",
      "Model: \"sequential_1\"\n",
      "_________________________________________________________________\n",
      "Layer (type)                 Output Shape              Param #   \n",
      "=================================================================\n",
      "conv2d_1 (Conv2D)            (None, 148, 148, 32)      896       \n",
      "_________________________________________________________________\n",
      "batch_normalization_1 (Batch (None, 148, 148, 32)      128       \n",
      "_________________________________________________________________\n",
      "max_pooling2d_1 (MaxPooling2 (None, 74, 74, 32)        0         \n",
      "_________________________________________________________________\n",
      "conv2d_2 (Conv2D)            (None, 72, 72, 64)        18496     \n",
      "_________________________________________________________________\n",
      "max_pooling2d_2 (MaxPooling2 (None, 36, 36, 64)        0         \n",
      "_________________________________________________________________\n",
      "conv2d_3 (Conv2D)            (None, 34, 34, 128)       73856     \n",
      "_________________________________________________________________\n",
      "batch_normalization_2 (Batch (None, 34, 34, 128)       512       \n",
      "_________________________________________________________________\n",
      "max_pooling2d_3 (MaxPooling2 (None, 17, 17, 128)       0         \n",
      "_________________________________________________________________\n",
      "flatten_1 (Flatten)          (None, 36992)             0         \n",
      "_________________________________________________________________\n",
      "dense_1 (Dense)              (None, 512)               18940416  \n",
      "_________________________________________________________________\n",
      "batch_normalization_3 (Batch (None, 512)               2048      \n",
      "_________________________________________________________________\n",
      "dense_2 (Dense)              (None, 7)                 3591      \n",
      "=================================================================\n",
      "Total params: 19,039,943\n",
      "Trainable params: 19,038,599\n",
      "Non-trainable params: 1,344\n",
      "_________________________________________________________________\n"
     ]
    }
   ],
   "source": [
    "from keras import layers\n",
    "from keras import models\n",
    "\n",
    "model = models.Sequential()\n",
    "model.add(layers.Conv2D(32,(3,3), activation='relu',\n",
    "                       input_shape=(150,150,3)))\n",
    "model.add(layers.BatchNormalization())\n",
    "model.add(layers.MaxPooling2D((2,2)))\n",
    "model.add(layers.Conv2D(64,(3,3), activation='relu'))\n",
    "model.add(layers.MaxPooling2D((2,2)))\n",
    "model.add(layers.Conv2D(128,(3,3), activation='relu'))\n",
    "model.add(layers.BatchNormalization())\n",
    "model.add(layers.MaxPooling2D((2,2)))\n",
    "model.add(layers.Flatten())\n",
    "model.add(layers.Dense(512, activation='relu'))\n",
    "model.add(layers.BatchNormalization())\n",
    "model.add(layers.Dense(7, activation='sigmoid'))\n",
    "\n",
    "model.summary()"
   ]
  },
  {
   "cell_type": "code",
   "execution_count": 2,
   "metadata": {},
   "outputs": [],
   "source": [
    "from keras import optimizers\n",
    "\n",
    "model.compile(loss='categorical_crossentropy',\n",
    "             optimizer=optimizers.Adam(),\n",
    "             metrics=['acc'])"
   ]
  },
  {
   "cell_type": "code",
   "execution_count": 5,
   "metadata": {},
   "outputs": [
    {
     "name": "stdout",
     "output_type": "stream",
     "text": [
      "Found 5600 images belonging to 7 classes.\n",
      "Found 700 images belonging to 7 classes.\n"
     ]
    }
   ],
   "source": [
    "from keras.preprocessing.image import ImageDataGenerator\n",
    "\n",
    "train_datagen = ImageDataGenerator(rescale=1./255)\n",
    "test_datagen = ImageDataGenerator(rescale=1./255)\n",
    "\n",
    "train_generator = train_datagen.flow_from_directory(\n",
    "        train_dir,\n",
    "        target_size=(150,150),\n",
    "        batch_size=20,\n",
    "        class_mode='categorical')\n",
    "validation_generator = test_datagen.flow_from_directory(\n",
    "            validation_dir,\n",
    "            target_size=(150,150),\n",
    "            batch_size=20,\n",
    "            class_mode='categorical')"
   ]
  },
  {
   "cell_type": "code",
   "execution_count": 6,
   "metadata": {},
   "outputs": [
    {
     "name": "stdout",
     "output_type": "stream",
     "text": [
      "WARNING:tensorflow:From /media/angus/Shared/Documents/Uni/final_year_project/venv/lib/python3.7/site-packages/tensorflow/python/ops/math_grad.py:1250: add_dispatch_support.<locals>.wrapper (from tensorflow.python.ops.array_ops) is deprecated and will be removed in a future version.\n",
      "Instructions for updating:\n",
      "Use tf.where in 2.0, which has the same broadcast rule as np.where\n",
      "WARNING:tensorflow:From /media/angus/Shared/Documents/Uni/final_year_project/venv/lib/python3.7/site-packages/keras/backend/tensorflow_backend.py:422: The name tf.global_variables is deprecated. Please use tf.compat.v1.global_variables instead.\n",
      "\n",
      "Epoch 1/30\n",
      "100/100 [==============================] - 131s 1s/step - loss: 1.7701 - acc: 0.3095 - val_loss: 2.6397 - val_acc: 0.1480\n",
      "Epoch 2/30\n",
      "100/100 [==============================] - 130s 1s/step - loss: 1.6505 - acc: 0.3480 - val_loss: 7.0023 - val_acc: 0.1380\n",
      "Epoch 3/30\n",
      "100/100 [==============================] - 137s 1s/step - loss: 1.6132 - acc: 0.3635 - val_loss: 5.2076 - val_acc: 0.1350\n",
      "Epoch 4/30\n",
      "100/100 [==============================] - 150s 2s/step - loss: 1.5538 - acc: 0.4040 - val_loss: 5.6014 - val_acc: 0.1560\n",
      "Epoch 5/30\n",
      "100/100 [==============================] - 155s 2s/step - loss: 1.5369 - acc: 0.4090 - val_loss: 3.2632 - val_acc: 0.1280\n",
      "Epoch 6/30\n",
      "100/100 [==============================] - 153s 2s/step - loss: 1.5040 - acc: 0.4020 - val_loss: 2.0647 - val_acc: 0.2420\n",
      "Epoch 7/30\n",
      "100/100 [==============================] - 164s 2s/step - loss: 1.4634 - acc: 0.4305 - val_loss: 2.5151 - val_acc: 0.2450\n",
      "Epoch 8/30\n",
      "100/100 [==============================] - 145s 1s/step - loss: 1.4560 - acc: 0.4395 - val_loss: 2.1261 - val_acc: 0.3430\n",
      "Epoch 9/30\n",
      "100/100 [==============================] - 160s 2s/step - loss: 1.3999 - acc: 0.4740 - val_loss: 2.7822 - val_acc: 0.2620\n",
      "Epoch 10/30\n",
      "100/100 [==============================] - 142s 1s/step - loss: 1.3346 - acc: 0.4980 - val_loss: 2.2522 - val_acc: 0.2770\n",
      "Epoch 11/30\n",
      "100/100 [==============================] - 133s 1s/step - loss: 1.3220 - acc: 0.5105 - val_loss: 1.7367 - val_acc: 0.4150\n",
      "Epoch 12/30\n",
      "100/100 [==============================] - 132s 1s/step - loss: 1.2357 - acc: 0.5365 - val_loss: 2.4110 - val_acc: 0.2520\n",
      "Epoch 13/30\n",
      "100/100 [==============================] - 131s 1s/step - loss: 1.2454 - acc: 0.5385 - val_loss: 4.0034 - val_acc: 0.2580\n",
      "Epoch 14/30\n",
      "100/100 [==============================] - 131s 1s/step - loss: 1.2015 - acc: 0.5550 - val_loss: 4.1368 - val_acc: 0.2480\n",
      "Epoch 15/30\n",
      "100/100 [==============================] - 131s 1s/step - loss: 1.1676 - acc: 0.5550 - val_loss: 3.4660 - val_acc: 0.1530\n",
      "Epoch 16/30\n",
      "100/100 [==============================] - 133s 1s/step - loss: 1.1259 - acc: 0.5785 - val_loss: 5.5745 - val_acc: 0.2230\n",
      "Epoch 17/30\n",
      "100/100 [==============================] - 131s 1s/step - loss: 1.0777 - acc: 0.5810 - val_loss: 2.3934 - val_acc: 0.2360\n",
      "Epoch 18/30\n",
      "100/100 [==============================] - 132s 1s/step - loss: 0.9586 - acc: 0.6425 - val_loss: 3.7997 - val_acc: 0.3300\n",
      "Epoch 19/30\n",
      "100/100 [==============================] - 133s 1s/step - loss: 1.1107 - acc: 0.5895 - val_loss: 0.7592 - val_acc: 0.3810\n",
      "Epoch 20/30\n",
      "100/100 [==============================] - 130s 1s/step - loss: 1.0713 - acc: 0.6045 - val_loss: 5.0916 - val_acc: 0.1400\n",
      "Epoch 21/30\n",
      "100/100 [==============================] - 132s 1s/step - loss: 0.9380 - acc: 0.6600 - val_loss: 3.9270 - val_acc: 0.1690\n",
      "Epoch 22/30\n",
      "100/100 [==============================] - 130s 1s/step - loss: 1.1044 - acc: 0.6030 - val_loss: 1.6775 - val_acc: 0.4170\n",
      "Epoch 23/30\n",
      "100/100 [==============================] - 130s 1s/step - loss: 0.9187 - acc: 0.6710 - val_loss: 2.1294 - val_acc: 0.3460\n",
      "Epoch 24/30\n",
      "100/100 [==============================] - 132s 1s/step - loss: 0.8705 - acc: 0.6870 - val_loss: 5.6866 - val_acc: 0.1600\n",
      "Epoch 25/30\n",
      "100/100 [==============================] - 131s 1s/step - loss: 0.9295 - acc: 0.6625 - val_loss: 2.7421 - val_acc: 0.2250\n",
      "Epoch 26/30\n",
      "100/100 [==============================] - 131s 1s/step - loss: 0.7281 - acc: 0.7420 - val_loss: 3.1415 - val_acc: 0.3690\n",
      "Epoch 27/30\n",
      "100/100 [==============================] - 132s 1s/step - loss: 0.7776 - acc: 0.7160 - val_loss: 3.4887 - val_acc: 0.3540\n",
      "Epoch 28/30\n",
      "100/100 [==============================] - 131s 1s/step - loss: 0.7827 - acc: 0.7060 - val_loss: 2.7236 - val_acc: 0.3530\n",
      "Epoch 29/30\n",
      "100/100 [==============================] - 130s 1s/step - loss: 0.5823 - acc: 0.7955 - val_loss: 4.2066 - val_acc: 0.2100\n",
      "Epoch 30/30\n",
      "100/100 [==============================] - 131s 1s/step - loss: 0.7634 - acc: 0.7255 - val_loss: 3.0254 - val_acc: 0.2590\n"
     ]
    }
   ],
   "source": [
    "history = model.fit_generator(\n",
    "train_generator,\n",
    "steps_per_epoch=100,\n",
    "epochs=30,\n",
    "validation_data=validation_generator,\n",
    "validation_steps=50)"
   ]
  },
  {
   "cell_type": "code",
   "execution_count": 8,
   "metadata": {},
   "outputs": [],
   "source": [
    "model.save('./../models/seti_small_4.h5')"
   ]
  }
 ],
 "metadata": {
  "kernelspec": {
   "display_name": "Python 3",
   "language": "python",
   "name": "python3"
  },
  "language_info": {
   "codemirror_mode": {
    "name": "ipython",
    "version": 3
   },
   "file_extension": ".py",
   "mimetype": "text/x-python",
   "name": "python",
   "nbconvert_exporter": "python",
   "pygments_lexer": "ipython3",
   "version": "3.7.5"
  }
 },
 "nbformat": 4,
 "nbformat_minor": 4
}
