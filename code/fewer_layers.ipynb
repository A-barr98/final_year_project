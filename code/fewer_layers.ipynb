{
 "cells": [
  {
   "cell_type": "code",
   "execution_count": 1,
   "metadata": {},
   "outputs": [],
   "source": [
    "import os, shutil, PIL\n",
    "original_dataset_dir = '../data/primary_small/'\n",
    "train_dir = os.path.join(original_dataset_dir, 'train')\n",
    "validation_dir = os.path.join(original_dataset_dir, 'valid')\n",
    "test_dir = os.path.join(original_dataset_dir, 'test')"
   ]
  },
  {
   "cell_type": "code",
   "execution_count": 2,
   "metadata": {},
   "outputs": [
    {
     "name": "stderr",
     "output_type": "stream",
     "text": [
      "Using TensorFlow backend.\n"
     ]
    }
   ],
   "source": [
    "from keras import layers\n",
    "from keras import models\n",
    "\n",
    "model = models.Sequential()\n",
    "model.add(layers.Conv2D(32,(3,3), activation='relu',\n",
    "                       input_shape=(150,150,3)))\n",
    "model.add(layers.BatchNormalization())\n",
    "model.add(layers.MaxPooling2D((2,2)))\n",
    "model.add(layers.Conv2D(64,(3,3), activation='relu'))\n",
    "model.add(layers.MaxPooling2D((2,2)))\n",
    "model.add(layers.Conv2D(128,(3,3), activation='relu'))\n",
    "model.add(layers.BatchNormalization())\n",
    "model.add(layers.MaxPooling2D((2,2)))\n",
    "model.add(layers.Flatten())\n",
    "model.add(layers.Dense(512, activation='relu'))\n",
    "model.add(layers.BatchNormalization())\n",
    "model.add(layers.Dense(7, activation='sigmoid'))"
   ]
  },
  {
   "cell_type": "code",
   "execution_count": 3,
   "metadata": {},
   "outputs": [
    {
     "name": "stdout",
     "output_type": "stream",
     "text": [
      "Model: \"sequential_1\"\n",
      "_________________________________________________________________\n",
      "Layer (type)                 Output Shape              Param #   \n",
      "=================================================================\n",
      "conv2d_1 (Conv2D)            (None, 148, 148, 32)      896       \n",
      "_________________________________________________________________\n",
      "batch_normalization_1 (Batch (None, 148, 148, 32)      128       \n",
      "_________________________________________________________________\n",
      "max_pooling2d_1 (MaxPooling2 (None, 74, 74, 32)        0         \n",
      "_________________________________________________________________\n",
      "conv2d_2 (Conv2D)            (None, 72, 72, 64)        18496     \n",
      "_________________________________________________________________\n",
      "max_pooling2d_2 (MaxPooling2 (None, 36, 36, 64)        0         \n",
      "_________________________________________________________________\n",
      "conv2d_3 (Conv2D)            (None, 34, 34, 128)       73856     \n",
      "_________________________________________________________________\n",
      "batch_normalization_2 (Batch (None, 34, 34, 128)       512       \n",
      "_________________________________________________________________\n",
      "max_pooling2d_3 (MaxPooling2 (None, 17, 17, 128)       0         \n",
      "_________________________________________________________________\n",
      "flatten_1 (Flatten)          (None, 36992)             0         \n",
      "_________________________________________________________________\n",
      "dense_1 (Dense)              (None, 512)               18940416  \n",
      "_________________________________________________________________\n",
      "batch_normalization_3 (Batch (None, 512)               2048      \n",
      "_________________________________________________________________\n",
      "dense_2 (Dense)              (None, 7)                 3591      \n",
      "=================================================================\n",
      "Total params: 19,039,943\n",
      "Trainable params: 19,038,599\n",
      "Non-trainable params: 1,344\n",
      "_________________________________________________________________\n"
     ]
    }
   ],
   "source": [
    "model.summary()"
   ]
  },
  {
   "cell_type": "code",
   "execution_count": 4,
   "metadata": {},
   "outputs": [],
   "source": [
    "from keras import optimizers\n",
    "\n",
    "model.compile(loss='categorical_crossentropy',\n",
    "             optimizer=optimizers.RMSprop(lr=1e-4),\n",
    "             metrics=['acc'])"
   ]
  },
  {
   "cell_type": "code",
   "execution_count": 5,
   "metadata": {},
   "outputs": [
    {
     "name": "stdout",
     "output_type": "stream",
     "text": [
      "Found 5600 images belonging to 7 classes.\n",
      "Found 700 images belonging to 7 classes.\n"
     ]
    }
   ],
   "source": [
    "from keras.preprocessing.image import ImageDataGenerator\n",
    "\n",
    "train_datagen = ImageDataGenerator(rescale=1./255)\n",
    "test_datagen = ImageDataGenerator(rescale=1./255)\n",
    "\n",
    "train_generator = train_datagen.flow_from_directory(\n",
    "        train_dir,\n",
    "        target_size=(150,150),\n",
    "        batch_size=20,\n",
    "        class_mode='categorical')\n",
    "validation_generator = test_datagen.flow_from_directory(\n",
    "            validation_dir,\n",
    "            target_size=(150,150),\n",
    "            batch_size=20,\n",
    "            class_mode='categorical')"
   ]
  },
  {
   "cell_type": "code",
   "execution_count": 6,
   "metadata": {},
   "outputs": [
    {
     "name": "stdout",
     "output_type": "stream",
     "text": [
      "Epoch 1/30\n",
      "100/100 [==============================] - 151s 2s/step - loss: 1.7946 - acc: 0.3095 - val_loss: 3.8791 - val_acc: 0.1300\n",
      "Epoch 2/30\n",
      "100/100 [==============================] - 176s 2s/step - loss: 1.6529 - acc: 0.3405 - val_loss: 8.4174 - val_acc: 0.1610\n",
      "Epoch 3/30\n",
      "100/100 [==============================] - 182s 2s/step - loss: 1.5683 - acc: 0.3955 - val_loss: 10.0659 - val_acc: 0.1380\n",
      "Epoch 4/30\n",
      "100/100 [==============================] - 182s 2s/step - loss: 1.3246 - acc: 0.5190 - val_loss: 9.6257 - val_acc: 0.1470\n",
      "Epoch 5/30\n",
      "100/100 [==============================] - 183s 2s/step - loss: 1.2865 - acc: 0.4945 - val_loss: 8.0483 - val_acc: 0.1410\n",
      "Epoch 6/30\n",
      "100/100 [==============================] - 181s 2s/step - loss: 1.1751 - acc: 0.5810 - val_loss: 6.9068 - val_acc: 0.1400\n",
      "Epoch 7/30\n",
      "100/100 [==============================] - 186s 2s/step - loss: 0.9898 - acc: 0.6670 - val_loss: 4.5745 - val_acc: 0.1480\n",
      "Epoch 8/30\n",
      "100/100 [==============================] - 181s 2s/step - loss: 0.9641 - acc: 0.6720 - val_loss: 3.3244 - val_acc: 0.2810\n",
      "Epoch 9/30\n",
      "100/100 [==============================] - 185s 2s/step - loss: 0.8510 - acc: 0.7115 - val_loss: 2.8694 - val_acc: 0.3160\n",
      "Epoch 10/30\n",
      "100/100 [==============================] - 186s 2s/step - loss: 0.7707 - acc: 0.7370 - val_loss: 2.6479 - val_acc: 0.3110\n",
      "Epoch 11/30\n",
      "100/100 [==============================] - 181s 2s/step - loss: 0.7510 - acc: 0.7525 - val_loss: 1.3397 - val_acc: 0.3770\n",
      "Epoch 12/30\n",
      "100/100 [==============================] - 188s 2s/step - loss: 0.6100 - acc: 0.8195 - val_loss: 2.1135 - val_acc: 0.3460\n",
      "Epoch 13/30\n",
      "100/100 [==============================] - 200s 2s/step - loss: 0.5885 - acc: 0.7995 - val_loss: 1.7870 - val_acc: 0.3270\n",
      "Epoch 14/30\n",
      "100/100 [==============================] - 192s 2s/step - loss: 0.5459 - acc: 0.8185 - val_loss: 2.1935 - val_acc: 0.3430\n",
      "Epoch 15/30\n",
      "100/100 [==============================] - 188s 2s/step - loss: 0.4106 - acc: 0.8960 - val_loss: 2.6796 - val_acc: 0.3150\n",
      "Epoch 16/30\n",
      "100/100 [==============================] - 186s 2s/step - loss: 0.3814 - acc: 0.8905 - val_loss: 2.5803 - val_acc: 0.3320\n",
      "Epoch 17/30\n",
      "100/100 [==============================] - 182s 2s/step - loss: 0.3304 - acc: 0.9080 - val_loss: 2.2403 - val_acc: 0.2900\n",
      "Epoch 18/30\n",
      "100/100 [==============================] - 184s 2s/step - loss: 0.2129 - acc: 0.9550 - val_loss: 2.4324 - val_acc: 0.2800\n",
      "Epoch 19/30\n",
      "100/100 [==============================] - 185s 2s/step - loss: 0.2072 - acc: 0.9490 - val_loss: 2.4251 - val_acc: 0.3080\n",
      "Epoch 20/30\n",
      "100/100 [==============================] - 183s 2s/step - loss: 0.1425 - acc: 0.9700 - val_loss: 2.1400 - val_acc: 0.2680\n",
      "Epoch 21/30\n",
      "100/100 [==============================] - 184s 2s/step - loss: 0.0877 - acc: 0.9835 - val_loss: 2.9200 - val_acc: 0.3050\n",
      "Epoch 22/30\n",
      "100/100 [==============================] - 180s 2s/step - loss: 0.0754 - acc: 0.9850 - val_loss: 2.1766 - val_acc: 0.3580\n",
      "Epoch 23/30\n",
      "100/100 [==============================] - 183s 2s/step - loss: 0.0492 - acc: 0.9930 - val_loss: 1.8724 - val_acc: 0.3650\n",
      "Epoch 24/30\n",
      "100/100 [==============================] - 180s 2s/step - loss: 0.0306 - acc: 0.9980 - val_loss: 2.6546 - val_acc: 0.3100\n",
      "Epoch 25/30\n",
      "100/100 [==============================] - 201s 2s/step - loss: 0.0304 - acc: 0.9960 - val_loss: 2.0452 - val_acc: 0.2920\n",
      "Epoch 26/30\n",
      "100/100 [==============================] - 197s 2s/step - loss: 0.0134 - acc: 1.0000 - val_loss: 3.1889 - val_acc: 0.3250\n",
      "Epoch 27/30\n",
      "100/100 [==============================] - 182s 2s/step - loss: 0.0120 - acc: 0.9990 - val_loss: 3.3761 - val_acc: 0.3100\n",
      "Epoch 28/30\n",
      "100/100 [==============================] - 223s 2s/step - loss: 0.0154 - acc: 0.9970 - val_loss: 4.2677 - val_acc: 0.2560\n",
      "Epoch 29/30\n",
      "100/100 [==============================] - 204s 2s/step - loss: 0.0055 - acc: 1.0000 - val_loss: 2.6198 - val_acc: 0.2990\n",
      "Epoch 30/30\n",
      "100/100 [==============================] - 184s 2s/step - loss: 0.0060 - acc: 1.0000 - val_loss: 2.6334 - val_acc: 0.3500\n"
     ]
    }
   ],
   "source": [
    "history = model.fit_generator(\n",
    "train_generator,\n",
    "steps_per_epoch=100,\n",
    "epochs=30,\n",
    "validation_data=validation_generator,\n",
    "validation_steps=50)"
   ]
  },
  {
   "cell_type": "markdown",
   "metadata": {},
   "source": [
    "With 1 fewer layer"
   ]
  },
  {
   "cell_type": "code",
   "execution_count": 7,
   "metadata": {},
   "outputs": [],
   "source": [
    "model.save('seti_small_3.h5')"
   ]
  }
 ],
 "metadata": {
  "kernelspec": {
   "display_name": "Python 3",
   "language": "python",
   "name": "python3"
  },
  "language_info": {
   "codemirror_mode": {
    "name": "ipython",
    "version": 3
   },
   "file_extension": ".py",
   "mimetype": "text/x-python",
   "name": "python",
   "nbconvert_exporter": "python",
   "pygments_lexer": "ipython3",
   "version": "3.7.5"
  }
 },
 "nbformat": 4,
 "nbformat_minor": 2
}
